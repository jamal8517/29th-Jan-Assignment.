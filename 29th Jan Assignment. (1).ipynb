{
 "cells": [
  {
   "cell_type": "markdown",
   "id": "7a52dbc3-6e47-4b8e-afb0-ded541a1de3a",
   "metadata": {},
   "source": [
    "Q1.Who developed pythan programming language.?"
   ]
  },
  {
   "cell_type": "markdown",
   "id": "601484d2-113c-45c2-ac70-1416cbd12d2f",
   "metadata": {},
   "source": [
    " A.1 The python programming language was created by Guido van Rossum."
   ]
  },
  {
   "cell_type": "markdown",
   "id": "9c5e0139-f462-468e-b60d-91edd758a9a4",
   "metadata": {},
   "source": [
    "Q.2 Which type of programming does python support?"
   ]
  },
  {
   "cell_type": "markdown",
   "id": "120b8486-678d-472c-b2fe-e6bcb4c13da6",
   "metadata": {},
   "source": [
    "A.2 Python supports multiple programming paradigms, making it a versatile language. "
   ]
  },
  {
   "cell_type": "markdown",
   "id": "44e0d110-f8fb-4862-9524-4cd985ad26cf",
   "metadata": {},
   "source": [
    "Q.3 Is python case sensitive when dealing identifiers?"
   ]
  },
  {
   "cell_type": "markdown",
   "id": "2e419e70-9018-4144-854e-dc13265f8586",
   "metadata": {},
   "source": [
    "A.3  Python is a case-sensitive language when it comes to identifiers. \n",
    "This means that variables, function names, class names, and other identifiers in Python are distinguished based on their case.\n",
    "\n",
    "\n",
    "\n",
    "\n",
    "\n",
    "\n",
    "\n",
    "\n"
   ]
  },
  {
   "cell_type": "markdown",
   "id": "5ca75e46-ccc7-4264-9ac3-fdf24ba64b4e",
   "metadata": {},
   "source": [
    "Q.4 What is  the correct extention of the Python file?"
   ]
  },
  {
   "cell_type": "markdown",
   "id": "74bd7b69-04c9-4413-85fc-b8d1ff811900",
   "metadata": {},
   "source": [
    "A.4 The correct extension for Python files is \".py\"."
   ]
  },
  {
   "cell_type": "markdown",
   "id": "a54a548e-992f-4f9f-91ff-34b48be4a5fc",
   "metadata": {},
   "source": [
    "Q5 Is python code compiled or interpreted?\n"
   ]
  },
  {
   "cell_type": "markdown",
   "id": "e10afaa6-6037-4311-ad0e-0fa6b02c6833",
   "metadata": {},
   "source": [
    "A.5 Python is often referred to as an interpreted language because it uses an interpreter to execute Python code line by line."
   ]
  },
  {
   "cell_type": "markdown",
   "id": "1f38e7c3-87d1-471a-a24c-aa3393320f54",
   "metadata": {},
   "source": [
    "Q.6 Name a few block of code use to define in python language?"
   ]
  },
  {
   "cell_type": "markdown",
   "id": "2c154e6e-fe50-4d94-a448-d26b0403fca1",
   "metadata": {},
   "source": [
    "A.6 In Python, code blocks are defined using indentation. Indentation is crucial for grouping statements together to form a block of code."
   ]
  },
  {
   "cell_type": "markdown",
   "id": "32b21fe4-a397-402c-9441-3cdd34e9251c",
   "metadata": {},
   "source": [
    "Q.7 State a character used to give single line comment in python?"
   ]
  },
  {
   "cell_type": "markdown",
   "id": "d2c4be12-d688-4209-8af5-d480b3c34c79",
   "metadata": {},
   "source": [
    "A.7 In Python, the character \"#\" (hash or pound symbol) is used to denote a single-line comment. "
   ]
  },
  {
   "cell_type": "markdown",
   "id": "9e611e24-1eb7-4208-bef7-3cfc09907cad",
   "metadata": {},
   "source": [
    "Q.8 Mention functions which can help us to find the version of python that we are currently working on?"
   ]
  },
  {
   "cell_type": "markdown",
   "id": "6a609dfe-4bf7-4b0f-a431-06a2cb44d17a",
   "metadata": {},
   "source": [
    "A.8 sys.version: This function returns a string that contains the Python version number.\n",
    "Example:"
   ]
  },
  {
   "cell_type": "code",
   "execution_count": 1,
   "id": "880b0792-8b6a-4a61-88a1-e17bb45c37e8",
   "metadata": {},
   "outputs": [
    {
     "name": "stdout",
     "output_type": "stream",
     "text": [
      "3.10.8 | packaged by conda-forge | (main, Nov 22 2022, 08:26:04) [GCC 10.4.0]\n"
     ]
    }
   ],
   "source": [
    "import sys\n",
    "print(sys.version)\n"
   ]
  },
  {
   "cell_type": "markdown",
   "id": "ff0cba47-0b9c-4684-955a-81c9e73c6cd2",
   "metadata": {},
   "source": [
    "Q.9 Python supports the creation anonymous function at runtime,using a construct called ......"
   ]
  },
  {
   "cell_type": "markdown",
   "id": "0e327fbd-370a-473f-9cc9-3bf39be4af39",
   "metadata": {},
   "source": [
    "A.9 Python supports the creation of anonymous functions at runtime using a construct called \"lambda\" functions. "
   ]
  },
  {
   "cell_type": "markdown",
   "id": "9ecaeec8-17bf-41c2-a109-d88d4b3c6672",
   "metadata": {},
   "source": [
    "Q.10 What does pip stand for python? "
   ]
  },
  {
   "cell_type": "markdown",
   "id": "b4b2328e-ee0d-461e-a402-42bd1f16e030",
   "metadata": {},
   "source": [
    "A.10 In the context of Python, \"pip\" stands for \"Pip Installs Packages.\""
   ]
  },
  {
   "cell_type": "markdown",
   "id": "d1ddf712-c6ad-40af-936a-06e0619ffe00",
   "metadata": {},
   "source": [
    "Q.11 Mention a few built-in function in pythan ?"
   ]
  },
  {
   "cell_type": "markdown",
   "id": "262cc56c-d8d6-4f5c-9064-a0cb7d77ae11",
   "metadata": {},
   "source": [
    "A.11 print(): Used to display output on the console.\n",
    "\n",
    "len(): Returns the length of an object, such as a string, list, or tuple.\n",
    "\n",
    "input(): Reads input from the user via the console.\n",
    "\n",
    "type(): Returns the type of an object.\n",
    "\n",
    "int(): Converts a value to an integer data type.\n",
    "\n",
    "float(): Converts a value to a floating-point data type.\n",
    "\n",
    "str(): Converts a value to a string data type.\n",
    "\n",
    "list(): Converts an iterable object into a list.\n",
    "\n",
    "range(): Generates a sequence of numbers.\n",
    "\n",
    "sum(): Returns the sum of all elements in an iterable."
   ]
  },
  {
   "cell_type": "markdown",
   "id": "71b61c36-b363-4d80-8f1c-b41806583b09",
   "metadata": {},
   "source": [
    "Q.12 What is the maximum possible length of an identifier in python?"
   ]
  },
  {
   "cell_type": "markdown",
   "id": "8a7eceec-e7fe-49a5-8ccc-38df746667e9",
   "metadata": {},
   "source": [
    "A.12 The maximum possible length of an identifier in the Python language is 79 characters. "
   ]
  },
  {
   "cell_type": "markdown",
   "id": "1b4319e2-5478-4545-821c-814ed6f26990",
   "metadata": {},
   "source": [
    "Q.13 What are the benefits of using python ?"
   ]
  },
  {
   "cell_type": "markdown",
   "id": "a9727047-dd22-450e-8bfb-9c218ea4850c",
   "metadata": {},
   "source": [
    "A.13 Readability: Python's syntax is designed to be easy to read and understand, emphasizing code readability and reducing the cost of program maintenance.\n",
    "\n",
    "Simplicity: Python has a clean and straightforward syntax that allows developers to express concepts with fewer lines of code compared to other languages, making it easier to learn and use.\n",
    "\n",
    "Large Standard Library: Python comes with a comprehensive standard library that provides a wide range of modules and functions for common tasks, reducing the need to write code from scratch and boosting productivity.\n",
    "\n",
    "Portability: Python programs can run on various platforms and operating systems, including Windows, macOS, Linux, and many others, making it highly portable and adaptable to different environments.\n",
    "\n",
    "Extensive Third-Party Libraries: Python has a vast ecosystem of third-party libraries and frameworks, such as NumPy, Pandas, Django, Flask, TensorFlow, and many more, which provide ready-to-use tools and functionalities for diverse purposes, from data analysis to web development and machine learning.\n",
    "\n",
    "Integration Capabilities: Python has excellent integration capabilities with other programming languages like C/C++, allowing developers to extend Python applications with high-performance code or leverage existing libraries.\n",
    "\n",
    "Rapid Development: Python's simplicity and ease of use contribute to rapid development cycles. It allows developers to quickly prototype ideas and concepts, leading to faster time-to-market for applications.\n",
    "\n",
    "Flexibility: Python supports various programming paradigms, including object-oriented, procedural, and functional programming, allowing developers to choose the most appropriate approach for their projects.\n",
    "\n",
    "Community and Support: Python has a vibrant and active community of developers, which means there are numerous online resources, tutorials, forums, and user groups available for support and sharing knowledge.\n",
    "\n",
    "Career Opportunities: Python's popularity has grown significantly over the years, and it is widely used in fields such as web development, data analysis, scientific computing, artificial intelligence, machine learning, and more. Proficiency in Python opens up a wide range of career opportunities in these domains."
   ]
  },
  {
   "cell_type": "markdown",
   "id": "8b388437-98a1-479c-90f1-2ddd2a71ab9e",
   "metadata": {},
   "source": [
    "Q 14 How is memory managed in python ?"
   ]
  },
  {
   "cell_type": "markdown",
   "id": "0eb5b4e8-487f-4527-b8ae-aea6d8db06a4",
   "metadata": {},
   "source": [
    "A 14 Memory management in Python is handled automatically through a combination of reference counting and a garbage collector."
   ]
  },
  {
   "cell_type": "markdown",
   "id": "69837da2-235f-40af-96b4-e6f6db058973",
   "metadata": {},
   "source": [
    "Q 15 How to install python on windows and set path variables ?"
   ]
  },
  {
   "cell_type": "markdown",
   "id": "dee40e90-4adf-483d-9a28-129381f5c51d",
   "metadata": {},
   "source": [
    "A 15 .install Python on Windows and set up the path variables, you can follow these steps:\n",
    "\n",
    "Visit the official Python website at https://www.python.org/downloads/ and download the latest Python installer for Windows.\n",
    "\n",
    "Run the installer and select the option to install Python for all users, which will require administrative privileges.\n",
    "\n",
    "In the installation wizard, make sure to check the box that says \"Add Python to PATH.\" This will automatically set up the necessary environment variables.\n",
    "\n",
    "Choose the installation location for Python, or you can keep the default location.\n",
    "\n",
    "Complete the installation by clicking \"Install\" and wait for the process to finish.\n",
    "\n",
    "Once the installation is complete, open the Command Prompt or PowerShell as an administrator.\n",
    "\n",
    "Verify that Python is correctly installed by typing python --version or python3 --version and press Enter. You should see the version number of Python.\n",
    "\n",
    "To set the path variables, go to \"Control Panel\" > \"System and Security\" > \"System\" > \"Advanced system settings.\"\n",
    "\n",
    "In the \"System Properties\" window, click on the \"Environment Variables\" button.\n",
    "\n",
    "In the \"Environment Variables\" window, locate the \"Path\" variable under the \"System variables\" section and click \"Edit.\"\n",
    "\n",
    "Add the paths to the Python installation directories. By default, they should be C:\\PythonXX or C:\\Users\\YourUsername\\AppData\\Local\\Programs\\Python\\PythonXX (replace XX with the version number). Separate multiple paths with semicolons (;).\n",
    "\n",
    "Click \"OK\" to save the changes and close the windows.\n",
    "\n",
    "Close and reopen the Command Prompt or PowerShell.\n",
    "\n",
    "You should now be able to run Python commands and scripts from any directory by simply typing python or python3 followed by the command.\n",
    "\n",
    "By following these steps, you can successfully install Python on Windows and set up the necessary path variables to use Python conveniently from the command line."
   ]
  },
  {
   "cell_type": "markdown",
   "id": "7dbe8ba2-695d-42a6-b271-82a983116908",
   "metadata": {},
   "source": [
    "Q.16 Is indentation  required in pythan?"
   ]
  },
  {
   "cell_type": "code",
   "execution_count": null,
   "id": "b22c4833-3db2-48d1-ac55-0c9d0b88ee5b",
   "metadata": {},
   "outputs": [],
   "source": [
    "A.16 Yes, indentation is required in Python."
   ]
  }
 ],
 "metadata": {
  "kernelspec": {
   "display_name": "Python 3 (ipykernel)",
   "language": "python",
   "name": "python3"
  },
  "language_info": {
   "codemirror_mode": {
    "name": "ipython",
    "version": 3
   },
   "file_extension": ".py",
   "mimetype": "text/x-python",
   "name": "python",
   "nbconvert_exporter": "python",
   "pygments_lexer": "ipython3",
   "version": "3.10.8"
  }
 },
 "nbformat": 4,
 "nbformat_minor": 5
}
